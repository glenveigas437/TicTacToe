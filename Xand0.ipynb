{
  "nbformat": 4,
  "nbformat_minor": 0,
  "metadata": {
    "colab": {
      "name": "Xand0",
      "version": "0.3.2",
      "provenance": [],
      "collapsed_sections": []
    },
    "kernelspec": {
      "name": "python3",
      "display_name": "Python 3"
    }
  },
  "cells": [
    {
      "cell_type": "code",
      "metadata": {
        "id": "_bRRXF-ldqt0",
        "colab_type": "code",
        "colab": {}
      },
      "source": [
        "Grid=[[\"1\",\"2\",\"3\"],\n",
        "     [\"4\",\"5\",\"6\"],\n",
        "     [\"7\",\"8\",\"9\"]]"
      ],
      "execution_count": 0,
      "outputs": []
    },
    {
      "cell_type": "code",
      "metadata": {
        "id": "9KqhvR9gd5EI",
        "colab_type": "code",
        "colab": {}
      },
      "source": [
        "def printGrid():\n",
        "  for i in range(len(Grid)):\n",
        "    print(Grid[i])  "
      ],
      "execution_count": 0,
      "outputs": []
    },
    {
      "cell_type": "code",
      "metadata": {
        "id": "wExqjZ7L86nL",
        "colab_type": "code",
        "colab": {}
      },
      "source": [
        "def index_2d(myList, v, ins):\n",
        "    for i, x in enumerate(myList):\n",
        "        if v in x:\n",
        "            a=i\n",
        "            b=x.index(v)\n",
        "            \n",
        "            myList[a][b]=ins\n",
        "    return(myList)        "
      ],
      "execution_count": 0,
      "outputs": []
    },
    {
      "cell_type": "code",
      "metadata": {
        "id": "tgQx2bFr7bsp",
        "colab_type": "code",
        "colab": {}
      },
      "source": [
        "def check(Grid, num):\n",
        "    ans=0\n",
        "    for i in range(len(Grid)): \n",
        "      for j in range (len(Grid)):\n",
        "        if(i==0 and j==0):\n",
        "            if(Grid[i][j]==Grid[i][j+1] and Grid[i][j+1]==Grid[i][j+2]):\n",
        "              print(\"Game Over\",\"Player\",num, \"wins the game\")\n",
        "              ans='Up'\n",
        "            if(Grid[i+1][j]==Grid[i+1][j+1] and Grid[i+1][j+1]==Grid[i+1][j+2]):\n",
        "              print(\"Game Over\",\"Player\",num, \"wins the game\")\n",
        "              ans='Middle'\n",
        "            if(Grid[i+2][j]==Grid[i+2][j+1] and Grid[i+2][j+1]==Grid[i+2][j+2]):\n",
        "              print(\"Game Over\",\"Player\",num, \"wins the game\")\n",
        "              ans='Bottom'  \n",
        "            if(Grid[i][j]==Grid[i+1][j] and Grid[i+2][j]==Grid[i+1][j]):\n",
        "              print(\"Game Over\",\"Player\",num, \"wins the game\")\n",
        "              ans='Left'\n",
        "            if(Grid[i][j+1]==Grid[i+1][j+1] and Grid[i+1][j+1]==Grid[i+2][j+1]):\n",
        "              print(\"Game Over\",\"Player\",num, \"wins the game\")\n",
        "              ans='Down'\n",
        "            if(Grid[i][j+2]==Grid[i+1][j+2] and Grid[i+1][j+2]==Grid[i+2][j+2]):\n",
        "              print(\"Game Over\",\"Player\",num, \"wins the game\")\n",
        "              ans='Right'  \n",
        "            if(Grid[i][j]==Grid[i+1][j+1] and Grid[i+1][j+1]==Grid[i+2][j+2]):\n",
        "              print(\"Game Over\",\"Player\",num, \"wins the game\")\n",
        "              ans='Diagonal Left'\n",
        "            if(Grid[i][j+2]==Grid[i+1][j+1] and Grid[i+1][j+1]==Grid[i+2][j]):\n",
        "              print(\"Game Over\",\"Player\",num, \"wins the game\")\n",
        "              ans='Diagonal Right'  \n",
        "            \n",
        "              \n",
        "\n",
        "    return ans          "
      ],
      "execution_count": 0,
      "outputs": []
    },
    {
      "cell_type": "code",
      "metadata": {
        "id": "BP0PXmc1d9UY",
        "colab_type": "code",
        "colab": {}
      },
      "source": [
        "def Player1():\n",
        "  player1=input(\"Input Grid number to enter X in the Grids below: \")\n",
        "  index_2d(Grid, player1, 'X')\n",
        "  printGrid()\n",
        "  return player1\n",
        "  \n",
        "def Player2():\n",
        "  player2=input(\"Input Grid number to enter O in the Grids below: \")\n",
        "  index_2d(Grid, player2, 'O')\n",
        "  printGrid()\n",
        "  return player2            "
      ],
      "execution_count": 0,
      "outputs": []
    },
    {
      "cell_type": "code",
      "metadata": {
        "id": "bxIlaom38EdO",
        "colab_type": "code",
        "colab": {
          "base_uri": "https://localhost:8080/",
          "height": 680
        },
        "outputId": "acd80ece-41c0-4c49-e7ee-03369e6716d0"
      },
      "source": [
        "printGrid()\n",
        "dummy=[]\n",
        "mains=['1','2','3','4','5','6','7','8','9']\n",
        "available=[]\n",
        "checks=['Up', 'Down', 'Left', 'Right', 'Middle', 'Bottom', 'Diagonal Left', 'Diagonal Right']\n",
        "\n",
        "while(True):\n",
        "  for i in range(len(mains)):\n",
        "    if(mains[i] not in dummy):\n",
        "      available.append(mains[i])\n",
        "  \n",
        "  \n",
        "  available = list(dict.fromkeys(available))\n",
        "  print(\"Available Grids are: \", available)\n",
        "      \n",
        "  player1=Player1()\n",
        "  if(player1 not in mains):\n",
        "    print(\"Please enter the right grid position\")\n",
        "    player1=Player1()\n",
        "  \n",
        "  elif(player1 in dummy):\n",
        "    print(\"Cannot Enter in this Position\")\n",
        "    player1=Player1()\n",
        "    \n",
        "  else:\n",
        "    dummy.append(player1)\n",
        "    available.remove(player1)\n",
        "    ans=check(Grid,1)\n",
        "    if(ans in checks):\n",
        "      break\n",
        "    if(len(dummy)==9):\n",
        "      print(\"Game Draw\")\n",
        "      break\n",
        "\n",
        "  \n",
        "  print(\"Available Grids are: \", available) \n",
        "  \n",
        "  player2=Player2()\n",
        "  if(player2 not in mains):\n",
        "    print(\"Please enter the right grid position\")\n",
        "    player2=Player2()\n",
        "  \n",
        "  elif(player2 in dummy):\n",
        "    print(\"Cannot Enter in this Position\")\n",
        "    player2=Player2()\n",
        "  \n",
        "  else:\n",
        "    dummy.append(player2)\n",
        "    available.remove(player2)\n",
        "    ans=check(Grid,2)\n",
        "    if(ans in checks):\n",
        "      break\n",
        "    if(len(dummy)==9):\n",
        "      print(\"Game Draw\")\n",
        "      break  "
      ],
      "execution_count": 216,
      "outputs": [
        {
          "output_type": "stream",
          "text": [
            "['1', '2', '3']\n",
            "['4', '5', '6']\n",
            "['7', '8', '9']\n",
            "Available Grids are:  ['1', '2', '3', '4', '5', '6', '7', '8', '9']\n",
            "Input Grid number to enter X in the Grids below: 1\n",
            "['X', '2', '3']\n",
            "['4', '5', '6']\n",
            "['7', '8', '9']\n",
            "Available Grids are:  ['2', '3', '4', '5', '6', '7', '8', '9']\n",
            "Input Grid number to enter O in the Grids below: 3\n",
            "['X', '2', 'O']\n",
            "['4', '5', '6']\n",
            "['7', '8', '9']\n",
            "Available Grids are:  ['2', '4', '5', '6', '7', '8', '9']\n",
            "Input Grid number to enter X in the Grids below: 6\n",
            "['X', '2', 'O']\n",
            "['4', '5', 'X']\n",
            "['7', '8', '9']\n",
            "Available Grids are:  ['2', '4', '5', '7', '8', '9']\n",
            "Input Grid number to enter O in the Grids below: 7\n",
            "['X', '2', 'O']\n",
            "['4', '5', 'X']\n",
            "['O', '8', '9']\n",
            "Available Grids are:  ['2', '4', '5', '8', '9']\n",
            "Input Grid number to enter X in the Grids below: 5\n",
            "['X', '2', 'O']\n",
            "['4', 'X', 'X']\n",
            "['O', '8', '9']\n",
            "Available Grids are:  ['2', '4', '8', '9']\n",
            "Input Grid number to enter O in the Grids below: 8\n",
            "['X', '2', 'O']\n",
            "['4', 'X', 'X']\n",
            "['O', 'O', '9']\n",
            "Available Grids are:  ['2', '4', '9']\n",
            "Input Grid number to enter X in the Grids below: 9\n",
            "['X', '2', 'O']\n",
            "['4', 'X', 'X']\n",
            "['O', 'O', 'X']\n",
            "Game Over Player 1 wins the game\n"
          ],
          "name": "stdout"
        }
      ]
    },
    {
      "cell_type": "code",
      "metadata": {
        "id": "aj_7-xRyzeXZ",
        "colab_type": "code",
        "colab": {}
      },
      "source": [
        ""
      ],
      "execution_count": 0,
      "outputs": []
    }
  ]
}